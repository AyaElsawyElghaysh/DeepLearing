{
  "metadata": {
    "jupytext": {
      "cell_metadata_filter": "-all",
      "formats": "ipynb"
    },
    "kernelspec": {
      "display_name": "Python 3",
      "language": "python",
      "name": "python3"
    },
    "language_info": {
      "codemirror_mode": {
        "name": "ipython",
        "version": 3
      },
      "file_extension": ".py",
      "mimetype": "text/x-python",
      "name": "python",
      "nbconvert_exporter": "python",
      "pygments_lexer": "ipython3",
      "version": "3.6.5"
    },
    "colab": {
      "name": "simple_binary_classification_exercise.ipynb",
      "provenance": [],
      "collapsed_sections": [],
      "include_colab_link": true
    }
  },
  "nbformat_minor": 0,
  "nbformat": 4,
  "cells": [
    {
      "cell_type": "markdown",
      "metadata": {
        "id": "view-in-github",
        "colab_type": "text"
      },
      "source": [
        "<a href=\"https://colab.research.google.com/github/AyaElsawyElghaysh/DeepLearing/blob/main/simple_binary_classification_exercise.ipynb\" target=\"_parent\"><img src=\"https://colab.research.google.com/assets/colab-badge.svg\" alt=\"Open In Colab\"/></a>"
      ]
    },
    {
      "cell_type": "markdown",
      "source": [
        "# Introduction #\n",
        "\n",
        "In this exercise, you'll build a model to predict hotel cancellations with a binary classifier."
      ],
      "metadata": {
        "id": "uZwBu0XDs5dw"
      }
    },
    {
      "cell_type": "code",
      "source": [
        "from google.colab import drive\n",
        "drive.mount('/content/drive')"
      ],
      "metadata": {
        "colab": {
          "base_uri": "https://localhost:8080/"
        },
        "id": "LaCmrHKCkmt2",
        "outputId": "bc5f5a0a-533e-4551-f0a6-c3e4c170455e"
      },
      "execution_count": 1,
      "outputs": [
        {
          "output_type": "stream",
          "name": "stdout",
          "text": [
            "Mounted at /content/drive\n"
          ]
        }
      ]
    },
    {
      "cell_type": "code",
      "source": [
        "# Setup plotting\n",
        "import matplotlib.pyplot as plt\n",
        "plt.style.use('seaborn-whitegrid')\n",
        "# Set Matplotlib defaults\n",
        "plt.rc('figure', autolayout=True)\n",
        "plt.rc('axes', labelweight='bold', labelsize='large',\n",
        "       titleweight='bold', titlesize=18, titlepad=10)\n",
        "plt.rc('animation', html='html5')"
      ],
      "metadata": {
        "lines_to_next_cell": 0,
        "id": "xjnLXJqms5dw"
      },
      "execution_count": 2,
      "outputs": []
    },
    {
      "cell_type": "markdown",
      "source": [
        "First, load the *Hotel Cancellations* dataset."
      ],
      "metadata": {
        "id": "r4Yh4j0ks5dx"
      }
    },
    {
      "cell_type": "code",
      "source": [
        "import pandas as pd\n",
        "\n",
        "from sklearn.model_selection import train_test_split\n",
        "from sklearn.preprocessing import StandardScaler, OneHotEncoder\n",
        "from sklearn.impute import SimpleImputer\n",
        "from sklearn.pipeline import make_pipeline\n",
        "from sklearn.compose import make_column_transformer\n",
        "\n",
        "hotel = pd.read_csv(\"/content/drive/MyDrive/Spark_data/iti-dl-s1/data/hotel.csv\")\n",
        "\n",
        "X = hotel.copy()\n",
        "y = X.pop('is_canceled')\n",
        "\n",
        "X['arrival_date_month'] = \\\n",
        "    X['arrival_date_month'].map(\n",
        "        {'January':1, 'February': 2, 'March':3,\n",
        "         'April':4, 'May':5, 'June':6, 'July':7,\n",
        "         'August':8, 'September':9, 'October':10,\n",
        "         'November':11, 'December':12}\n",
        "    )\n",
        "\n",
        "features_num = [\n",
        "    \"lead_time\", \"arrival_date_week_number\",\n",
        "    \"arrival_date_day_of_month\", \"stays_in_weekend_nights\",\n",
        "    \"stays_in_week_nights\", \"adults\", \"children\", \"babies\",\n",
        "    \"is_repeated_guest\", \"previous_cancellations\",\n",
        "    \"previous_bookings_not_canceled\", \"required_car_parking_spaces\",\n",
        "    \"total_of_special_requests\", \"adr\",\n",
        "]\n",
        "features_cat = [\n",
        "    \"hotel\", \"arrival_date_month\", \"meal\",\n",
        "    \"market_segment\", \"distribution_channel\",\n",
        "    \"reserved_room_type\", \"deposit_type\", \"customer_type\",\n",
        "]\n",
        "\n",
        "transformer_num = make_pipeline(\n",
        "    SimpleImputer(strategy=\"constant\"), # there are a few missing values\n",
        "    StandardScaler(),\n",
        ")\n",
        "transformer_cat = make_pipeline(\n",
        "    SimpleImputer(strategy=\"constant\", fill_value=\"NA\"),\n",
        "    OneHotEncoder(handle_unknown='ignore'),\n",
        ")\n",
        "\n",
        "preprocessor = make_column_transformer(\n",
        "    (transformer_num, features_num),\n",
        "    (transformer_cat, features_cat),\n",
        ")\n",
        "\n",
        "# stratify - make sure classes are evenlly represented across splits\n",
        "X_train, X_valid, y_train, y_valid = \\\n",
        "    train_test_split(X, y, stratify=y, train_size=0.75)\n",
        "\n",
        "X_train = preprocessor.fit_transform(X_train)\n",
        "X_valid = preprocessor.transform(X_valid)\n",
        "\n",
        "input_shape = [X_train.shape[1]]"
      ],
      "metadata": {
        "lines_to_next_cell": 2,
        "id": "DaZQeh-us5dy"
      },
      "execution_count": 5,
      "outputs": []
    },
    {
      "cell_type": "markdown",
      "source": [
        "# 1) Define Model #\n",
        "\n",
        "The model we'll use this time will have both batch normalization and dropout layers. To ease reading we've broken the diagram into blocks, but you can define it layer by layer as usual.\n",
        "\n",
        "Define a model with an architecture given by this diagram:\n",
        "\n",
        "<figure style=\"padding: 1em;\">\n",
        "<img src=\"https://i.imgur.com/V04o59Z.png\" width=\"400\" alt=\"Diagram of network architecture: BatchNorm, Dense, BatchNorm, Dropout, Dense, BatchNorm, Dropout, Dense.\">\n",
        "<figcaption style=\"textalign: center; font-style: italic\"><center>Diagram of a binary classifier.</center></figcaption>\n",
        "</figure>\n"
      ],
      "metadata": {
        "id": "lJdejREns5dy"
      }
    },
    {
      "cell_type": "code",
      "source": [
        "from tensorflow import keras\n",
        "from tensorflow.keras import layers\n",
        "\n",
        "# YOUR CODE HERE: define the model given in the diagram\n",
        "model = keras.Sequential()\n",
        "model.add(layers.Dense(512,activation='relu',input_shape=input_shape))\n",
        "model.add(layers.Dense(512,activation='relu'))\n",
        "model.add(layers.Dense(1,activation='sigmoid'))\n",
        "\n"
      ],
      "metadata": {
        "lines_to_next_cell": 2,
        "id": "L7eELMiAs5dz"
      },
      "execution_count": 8,
      "outputs": []
    },
    {
      "cell_type": "markdown",
      "source": [
        "# 2) Add Optimizer, Loss, and Metric #\n",
        "\n",
        "Now compile the model with the Adam optimizer and binary versions of the cross-entropy loss and accuracy metric."
      ],
      "metadata": {
        "id": "tJV4kiWHs5dz"
      }
    },
    {
      "cell_type": "code",
      "source": [
        "# YOUR CODE HERE\n",
        "model.compile(loss='binary_crossentropy',optimizer='adam',metrics=['binary_accuracy'])"
      ],
      "metadata": {
        "lines_to_next_cell": 0,
        "id": "NlFg8tW5s5d0"
      },
      "execution_count": 9,
      "outputs": []
    },
    {
      "cell_type": "markdown",
      "source": [
        "Finally, run this cell to train the model and view the learning curves. It may run for around 60 to 70 epochs, which could take a minute or two."
      ],
      "metadata": {
        "id": "Vrwpddy4s5d0"
      }
    },
    {
      "cell_type": "code",
      "source": [
        "early_stopping = keras.callbacks.EarlyStopping(\n",
        "    patience=5,\n",
        "    min_delta=0.001,\n",
        "    restore_best_weights=True,\n",
        ")\n",
        "history = model.fit(\n",
        "    X_train, y_train,\n",
        "    validation_data=(X_valid, y_valid),\n",
        "    batch_size=512,\n",
        "    epochs=200,\n",
        "    callbacks=[early_stopping],\n",
        ")\n",
        "\n",
        "history_df = pd.DataFrame(history.history)\n",
        "history_df.loc[:, ['loss', 'val_loss']].plot(title=\"Cross-entropy\")\n",
        "history_df.loc[:, ['binary_accuracy', 'val_binary_accuracy']].plot(title=\"Accuracy\")"
      ],
      "metadata": {
        "id": "wnfVT7Vss5d0",
        "colab": {
          "base_uri": "https://localhost:8080/",
          "height": 1000
        },
        "outputId": "c8c04876-580f-4e6e-9dbc-4ea6ca310217"
      },
      "execution_count": 10,
      "outputs": [
        {
          "output_type": "stream",
          "name": "stdout",
          "text": [
            "Epoch 1/200\n",
            "175/175 [==============================] - 8s 37ms/step - loss: 0.4255 - binary_accuracy: 0.8005 - val_loss: 0.4044 - val_binary_accuracy: 0.8140\n",
            "Epoch 2/200\n",
            "175/175 [==============================] - 4s 24ms/step - loss: 0.3875 - binary_accuracy: 0.8199 - val_loss: 0.3862 - val_binary_accuracy: 0.8205\n",
            "Epoch 3/200\n",
            "175/175 [==============================] - 4s 24ms/step - loss: 0.3740 - binary_accuracy: 0.8269 - val_loss: 0.3797 - val_binary_accuracy: 0.8252\n",
            "Epoch 4/200\n",
            "175/175 [==============================] - 4s 25ms/step - loss: 0.3623 - binary_accuracy: 0.8343 - val_loss: 0.3742 - val_binary_accuracy: 0.8266\n",
            "Epoch 5/200\n",
            "175/175 [==============================] - 4s 24ms/step - loss: 0.3547 - binary_accuracy: 0.8381 - val_loss: 0.3715 - val_binary_accuracy: 0.8297\n",
            "Epoch 6/200\n",
            "175/175 [==============================] - 4s 24ms/step - loss: 0.3490 - binary_accuracy: 0.8388 - val_loss: 0.3720 - val_binary_accuracy: 0.8290\n",
            "Epoch 7/200\n",
            "175/175 [==============================] - 4s 24ms/step - loss: 0.3439 - binary_accuracy: 0.8414 - val_loss: 0.3688 - val_binary_accuracy: 0.8321\n",
            "Epoch 8/200\n",
            "175/175 [==============================] - 4s 24ms/step - loss: 0.3370 - binary_accuracy: 0.8455 - val_loss: 0.3660 - val_binary_accuracy: 0.8307\n",
            "Epoch 9/200\n",
            "175/175 [==============================] - 4s 24ms/step - loss: 0.3322 - binary_accuracy: 0.8472 - val_loss: 0.3606 - val_binary_accuracy: 0.8360\n",
            "Epoch 10/200\n",
            "175/175 [==============================] - 4s 24ms/step - loss: 0.3282 - binary_accuracy: 0.8500 - val_loss: 0.3660 - val_binary_accuracy: 0.8340\n",
            "Epoch 11/200\n",
            "175/175 [==============================] - 4s 24ms/step - loss: 0.3229 - binary_accuracy: 0.8515 - val_loss: 0.3579 - val_binary_accuracy: 0.8360\n",
            "Epoch 12/200\n",
            "175/175 [==============================] - 4s 24ms/step - loss: 0.3172 - binary_accuracy: 0.8553 - val_loss: 0.3625 - val_binary_accuracy: 0.8351\n",
            "Epoch 13/200\n",
            "175/175 [==============================] - 4s 24ms/step - loss: 0.3135 - binary_accuracy: 0.8558 - val_loss: 0.3613 - val_binary_accuracy: 0.8355\n",
            "Epoch 14/200\n",
            "175/175 [==============================] - 4s 25ms/step - loss: 0.3087 - binary_accuracy: 0.8585 - val_loss: 0.3587 - val_binary_accuracy: 0.8365\n",
            "Epoch 15/200\n",
            "175/175 [==============================] - 4s 24ms/step - loss: 0.3045 - binary_accuracy: 0.8600 - val_loss: 0.3611 - val_binary_accuracy: 0.8364\n",
            "Epoch 16/200\n",
            "175/175 [==============================] - 5s 27ms/step - loss: 0.3018 - binary_accuracy: 0.8624 - val_loss: 0.3613 - val_binary_accuracy: 0.8368\n"
          ]
        },
        {
          "output_type": "execute_result",
          "data": {
            "text/plain": [
              "<matplotlib.axes._subplots.AxesSubplot at 0x7f691d789cd0>"
            ]
          },
          "metadata": {},
          "execution_count": 10
        },
        {
          "output_type": "display_data",
          "data": {
            "text/plain": [
              "<Figure size 432x288 with 1 Axes>"
            ],
            "image/png": "[encoded data removed]"
          },
          "metadata": {}
        },
        {
          "output_type": "display_data",
          "data": {
            "text/plain": [
              "<Figure size 432x288 with 1 Axes>"
            ],
            "image/png": "[encoded data removed]"
          },
          "metadata": {}
        }
      ]
    },
    {
      "cell_type": "markdown",
      "source": [
        "## That's it!"
      ],
      "metadata": {
        "id": "MnQeDbe0s5d1"
      }
    }
  ]
}