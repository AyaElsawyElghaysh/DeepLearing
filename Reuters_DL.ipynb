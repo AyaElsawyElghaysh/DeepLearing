{
  "nbformat": 4,
  "nbformat_minor": 0,
  "metadata": {
    "colab": {
      "name": "Reuters_DL.ipynb",
      "provenance": [],
      "mount_file_id": "1pMpxn7pPNZDndkX24CuQuuAXS-ftRIpj",
      "authorship_tag": "ABX9TyOmK4jWH1gDfT6x/NOEc9du",
      "include_colab_link": true
    },
    "kernelspec": {
      "name": "python3",
      "display_name": "Python 3"
    },
    "language_info": {
      "name": "python"
    }
  },
  "cells": [
    {
      "cell_type": "markdown",
      "metadata": {
        "id": "view-in-github",
        "colab_type": "text"
      },
      "source": [
        "<a href=\"https://colab.research.google.com/github/AyaElsawyElghaysh/DeepLearing/blob/main/Reuters_DL.ipynb\" target=\"_parent\"><img src=\"https://colab.research.google.com/assets/colab-badge.svg\" alt=\"Open In Colab\"/></a>"
      ]
    },
    {
      "cell_type": "code",
      "execution_count": 1,
      "metadata": {
        "id": "287UuKt-qlb_"
      },
      "outputs": [],
      "source": [
        "import tensorflow as tf \n",
        "from google.colab.patches import cv2_imshow\n",
        "import cv2 as cv \n",
        "import numpy as np \n",
        "from tensorflow.keras import Sequential\n",
        "from tensorflow.keras.layers import Conv2D\n",
        "from tensorflow.keras.layers import Dense,Flatten,MaxPool2D,Activation,Dropout,Input,BatchNormalization\n",
        "from tensorflow.keras.utils import to_categorical\n",
        "from tensorflow import keras\n",
        "import matplotlib.pyplot as plt\n",
        "from sklearn.model_selection import train_test_split"
      ]
    },
    {
      "cell_type": "markdown",
      "source": [
        "## Reuters dataset from keras\n",
        "newswires and thier topics"
      ],
      "metadata": {
        "id": "U_wLrKAXq53e"
      }
    },
    {
      "cell_type": "code",
      "source": [
        "(X_train,y_train),(X_test,y_test)=keras.datasets.reuters.load_data(num_words=10000)"
      ],
      "metadata": {
        "colab": {
          "base_uri": "https://localhost:8080/"
        },
        "id": "RR3Do8vMquGM",
        "outputId": "f040f08d-8be2-4fb6-f82b-2c14253dec15"
      },
      "execution_count": 2,
      "outputs": [
        {
          "output_type": "stream",
          "name": "stdout",
          "text": [
            "Downloading data from https://storage.googleapis.com/tensorflow/tf-keras-datasets/reuters.npz\n",
            "2113536/2110848 [==============================] - 0s 0us/step\n",
            "2121728/2110848 [==============================] - 0s 0us/step\n"
          ]
        }
      ]
    },
    {
      "cell_type": "code",
      "source": [
        "len(X_train)"
      ],
      "metadata": {
        "colab": {
          "base_uri": "https://localhost:8080/"
        },
        "id": "MRaVkkeOrUP1",
        "outputId": "4b49f524-f7c4-4e5f-9300-f6be82f452e0"
      },
      "execution_count": 3,
      "outputs": [
        {
          "output_type": "execute_result",
          "data": {
            "text/plain": [
              "8982"
            ]
          },
          "metadata": {},
          "execution_count": 3
        }
      ]
    },
    {
      "cell_type": "code",
      "source": [
        "len(X_test)"
      ],
      "metadata": {
        "colab": {
          "base_uri": "https://localhost:8080/"
        },
        "id": "-aNBdPH7rYfa",
        "outputId": "66e536e0-b515-4b17-e03c-880e26f340ff"
      },
      "execution_count": 4,
      "outputs": [
        {
          "output_type": "execute_result",
          "data": {
            "text/plain": [
              "2246"
            ]
          },
          "metadata": {},
          "execution_count": 4
        }
      ]
    },
    {
      "cell_type": "code",
      "source": [
        "word_index=keras.datasets.reuters.get_word_index() #get index of each word\n",
        "#map indices to words\n",
        "word_from_index=dict([(v,k) for k,v in word_index.items()])\n",
        "#there are there indices reserved 0 for padding and 1 for start of sequence 3 for unkown\n",
        "review_decoded=' '.join([word_from_index.get(i-3,'?') for i in X_train[0]])"
      ],
      "metadata": {
        "colab": {
          "base_uri": "https://localhost:8080/"
        },
        "id": "TxIOItPerazE",
        "outputId": "20c80a24-b473-4588-ac7f-bddd79ee0fa3"
      },
      "execution_count": 6,
      "outputs": [
        {
          "output_type": "stream",
          "name": "stdout",
          "text": [
            "Downloading data from https://storage.googleapis.com/tensorflow/tf-keras-datasets/reuters_word_index.json\n",
            "557056/550378 [==============================] - 0s 0us/step\n",
            "565248/550378 [==============================] - 0s 0us/step\n"
          ]
        }
      ]
    },
    {
      "cell_type": "code",
      "source": [
        "review_decoded"
      ],
      "metadata": {
        "colab": {
          "base_uri": "https://localhost:8080/",
          "height": 73
        },
        "id": "jEsy1vqerpIN",
        "outputId": "e6382119-0426-4038-ee41-67e0cfb3e18f"
      },
      "execution_count": 7,
      "outputs": [
        {
          "output_type": "execute_result",
          "data": {
            "text/plain": [
              "'? ? ? said as a result of its december acquisition of space co it expects earnings per share in 1987 of 1 15 to 1 30 dlrs per share up from 70 cts in 1986 the company said pretax net should rise to nine to 10 mln dlrs from six mln dlrs in 1986 and rental operation revenues to 19 to 22 mln dlrs from 12 5 mln dlrs it said cash flow per share this year should be 2 50 to three dlrs reuter 3'"
            ],
            "application/vnd.google.colaboratory.intrinsic+json": {
              "type": "string"
            }
          },
          "metadata": {},
          "execution_count": 7
        }
      ]
    },
    {
      "cell_type": "markdown",
      "source": [
        "#Verctorization"
      ],
      "metadata": {
        "id": "GEM6dX4qr-pp"
      }
    },
    {
      "cell_type": "code",
      "source": [
        "#we cannot deal with indices in NN  so we will use bag of words\n",
        "def vectorization(reviews,dimension=10000):\n",
        "  #create matrix of size len(reviews)*dimension \n",
        "  matrix_words=np.zeros((len(reviews),dimension))\n",
        "  for i,r in enumerate(reviews):\n",
        "     #print(i,r)\n",
        "     matrix_words[i,r]=1\n",
        "  return matrix_words\n",
        "       "
      ],
      "metadata": {
        "id": "71LRoyIgr4Sz"
      },
      "execution_count": 8,
      "outputs": []
    },
    {
      "cell_type": "code",
      "source": [
        "x_train=vectorization(X_train)\n",
        "x_test=vectorization(X_test)"
      ],
      "metadata": {
        "id": "rWBGk4rmsdlH"
      },
      "execution_count": 9,
      "outputs": []
    },
    {
      "cell_type": "markdown",
      "source": [
        "#we have 46 class in out target labels so use to_categorical or implement it from scratch "
      ],
      "metadata": {
        "id": "DPoeXfqYsqC1"
      }
    },
    {
      "cell_type": "code",
      "source": [
        "def to_one_hot_encoding(labels,classdim=46):\n",
        "    labels_class=np.zeros((len(labels),classdim))\n",
        "    for i,l  in enumerate(labels):\n",
        "          labels_class[i,l]=1\n",
        "    return labels_class"
      ],
      "metadata": {
        "id": "wXdOHhobsnuz"
      },
      "execution_count": 10,
      "outputs": []
    },
    {
      "cell_type": "code",
      "source": [
        "train_y=to_one_hot_encoding(y_train)\n",
        "test_y=to_one_hot_encoding(y_test)"
      ],
      "metadata": {
        "id": "VsjncInSuEJm"
      },
      "execution_count": 11,
      "outputs": []
    },
    {
      "cell_type": "code",
      "source": [
        "train_y[0]"
      ],
      "metadata": {
        "colab": {
          "base_uri": "https://localhost:8080/"
        },
        "id": "CugbKj7ouwov",
        "outputId": "f6661a5e-47fc-4649-c10a-7e7d4f4be68a"
      },
      "execution_count": 12,
      "outputs": [
        {
          "output_type": "execute_result",
          "data": {
            "text/plain": [
              "array([0., 0., 0., 1., 0., 0., 0., 0., 0., 0., 0., 0., 0., 0., 0., 0., 0.,\n",
              "       0., 0., 0., 0., 0., 0., 0., 0., 0., 0., 0., 0., 0., 0., 0., 0., 0.,\n",
              "       0., 0., 0., 0., 0., 0., 0., 0., 0., 0., 0., 0.])"
            ]
          },
          "metadata": {},
          "execution_count": 12
        }
      ]
    },
    {
      "cell_type": "code",
      "source": [
        "len(train_y[0])"
      ],
      "metadata": {
        "colab": {
          "base_uri": "https://localhost:8080/"
        },
        "id": "7U4oGF8ruyh3",
        "outputId": "a610ddff-0811-4dfa-c03e-6486a8f972cd"
      },
      "execution_count": 13,
      "outputs": [
        {
          "output_type": "execute_result",
          "data": {
            "text/plain": [
              "46"
            ]
          },
          "metadata": {},
          "execution_count": 13
        }
      ]
    },
    {
      "cell_type": "markdown",
      "source": [
        "## Modeling"
      ],
      "metadata": {
        "id": "jHDbDvnFu8Gs"
      }
    },
    {
      "cell_type": "code",
      "source": [
        "model=Sequential()\n",
        "model.add(Dense(64,activation=\"relu\",input_shape=(10000,)))\n",
        "model.add(Dense(64,activation=\"relu\"))\n",
        "model.add(Dense(46,activation=\"softmax\"))\n",
        "model.compile(optimizer=\"adam\",loss=\"categorical_crossentropy\",metrics=['accuracy'])"
      ],
      "metadata": {
        "id": "3VfF_pqTuzq3"
      },
      "execution_count": 14,
      "outputs": []
    },
    {
      "cell_type": "code",
      "source": [
        "x_val,x_test,y_val,y_test=train_test_split(x_train,train_y,train_size=.8,shuffle=True)"
      ],
      "metadata": {
        "id": "0jN-SetfxXST"
      },
      "execution_count": 16,
      "outputs": []
    },
    {
      "cell_type": "code",
      "source": [
        "#training\n",
        "history_1=model.fit(x_val,y_val,epochs=15,validation_data=(x_test,y_test),batch_size=512)"
      ],
      "metadata": {
        "colab": {
          "base_uri": "https://localhost:8080/"
        },
        "id": "iopxSZ-4wUlL",
        "outputId": "f06d67ce-d7da-4cd4-8655-c13f14b18588"
      },
      "execution_count": 17,
      "outputs": [
        {
          "output_type": "stream",
          "name": "stdout",
          "text": [
            "Epoch 1/15\n",
            "15/15 [==============================] - 2s 63ms/step - loss: 3.1817 - accuracy: 0.4498 - val_loss: 2.4917 - val_accuracy: 0.5092\n",
            "Epoch 2/15\n",
            "15/15 [==============================] - 1s 59ms/step - loss: 1.9327 - accuracy: 0.6051 - val_loss: 1.7311 - val_accuracy: 0.6283\n",
            "Epoch 3/15\n",
            "15/15 [==============================] - 1s 59ms/step - loss: 1.3706 - accuracy: 0.7013 - val_loss: 1.4513 - val_accuracy: 0.6767\n",
            "Epoch 4/15\n",
            "15/15 [==============================] - 1s 52ms/step - loss: 1.0891 - accuracy: 0.7670 - val_loss: 1.3127 - val_accuracy: 0.7095\n",
            "Epoch 5/15\n",
            "15/15 [==============================] - 1s 49ms/step - loss: 0.8850 - accuracy: 0.8156 - val_loss: 1.2155 - val_accuracy: 0.7429\n",
            "Epoch 6/15\n",
            "15/15 [==============================] - 1s 47ms/step - loss: 0.7169 - accuracy: 0.8576 - val_loss: 1.1450 - val_accuracy: 0.7629\n",
            "Epoch 7/15\n",
            "15/15 [==============================] - 1s 48ms/step - loss: 0.5859 - accuracy: 0.8855 - val_loss: 1.0882 - val_accuracy: 0.7730\n",
            "Epoch 8/15\n",
            "15/15 [==============================] - 1s 57ms/step - loss: 0.4742 - accuracy: 0.9083 - val_loss: 1.0549 - val_accuracy: 0.7735\n",
            "Epoch 9/15\n",
            "15/15 [==============================] - 1s 54ms/step - loss: 0.3883 - accuracy: 0.9203 - val_loss: 1.0091 - val_accuracy: 0.7824\n",
            "Epoch 10/15\n",
            "15/15 [==============================] - 1s 49ms/step - loss: 0.3183 - accuracy: 0.9376 - val_loss: 1.0098 - val_accuracy: 0.7885\n",
            "Epoch 11/15\n",
            "15/15 [==============================] - 1s 60ms/step - loss: 0.2618 - accuracy: 0.9466 - val_loss: 1.0019 - val_accuracy: 0.7896\n",
            "Epoch 12/15\n",
            "15/15 [==============================] - 1s 49ms/step - loss: 0.2208 - accuracy: 0.9507 - val_loss: 0.9882 - val_accuracy: 0.8002\n",
            "Epoch 13/15\n",
            "15/15 [==============================] - 1s 49ms/step - loss: 0.1919 - accuracy: 0.9548 - val_loss: 1.0069 - val_accuracy: 0.7969\n",
            "Epoch 14/15\n",
            "15/15 [==============================] - 1s 48ms/step - loss: 0.1657 - accuracy: 0.9592 - val_loss: 1.0105 - val_accuracy: 0.8019\n",
            "Epoch 15/15\n",
            "15/15 [==============================] - 1s 49ms/step - loss: 0.1463 - accuracy: 0.9623 - val_loss: 1.0458 - val_accuracy: 0.7908\n"
          ]
        }
      ]
    },
    {
      "cell_type": "code",
      "source": [
        "#overfitting we will overcome this later"
      ],
      "metadata": {
        "id": "BjR_rTauy1QZ"
      },
      "execution_count": null,
      "outputs": []
    },
    {
      "cell_type": "code",
      "source": [
        "import matplotlib.pyplot as plt\n",
        "acc=history_1.history[\"accuracy\"]\n",
        "val=history_1.history[\"val_accuracy\"]\n",
        "loss=history_1.history[\"loss\"]\n",
        "val_loss=history_1.history[\"val_loss\"]\n",
        "epochs=range(1,len(acc)+1)\n",
        "#plot epochs with loss and val loss\n",
        "plt.plot(epochs,loss,'bo',label='training loss')\n",
        "plt.plot(epochs,val_loss,'b',label='validation loss')\n",
        "plt.title(\"Training and validation losses\")\n",
        "plt.xlabel(\"Epochs\")\n",
        "plt.ylabel(\"Loss\")\n",
        "plt.legend()\n",
        "plt.show()"
      ],
      "metadata": {
        "colab": {
          "base_uri": "https://localhost:8080/",
          "height": 295
        },
        "id": "_1GuoqQMymTS",
        "outputId": "a72cceb5-40c2-4811-c1cb-6aa368677d93"
      },
      "execution_count": 19,
      "outputs": [
        {
          "output_type": "display_data",
          "data": {
            "text/plain": [
              "<Figure size 432x288 with 1 Axes>"
            ],
            "image/png": "[encoded data removed]"
          },
          "metadata": {
            "needs_background": "light"
          }
        }
      ]
    },
    {
      "cell_type": "code",
      "source": [
        "acc=history_1.history[\"accuracy\"]\n",
        "val=history_1.history[\"val_accuracy\"]\n",
        "loss=history_1.history[\"loss\"]\n",
        "val_loss=history_1.history[\"val_loss\"]\n",
        "epochs=range(1,len(acc)+1)\n",
        "#plot epochs with loss and val loss\n",
        "plt.plot(epochs,acc,'bo',label='training acc')\n",
        "plt.plot(epochs,val,'b',label='validation acc')\n",
        "plt.title(\"Training and validation accuracy\")\n",
        "plt.xlabel(\"Epochs\")\n",
        "plt.ylabel(\"Loss\")\n",
        "plt.legend()\n",
        "plt.show()"
      ],
      "metadata": {
        "colab": {
          "base_uri": "https://localhost:8080/",
          "height": 295
        },
        "id": "Ay3ya2jKypKw",
        "outputId": "7a7744d8-fb82-409f-c91b-e88a6c549496"
      },
      "execution_count": 21,
      "outputs": [
        {
          "output_type": "display_data",
          "data": {
            "text/plain": [
              "<Figure size 432x288 with 1 Axes>"
            ],
            "image/png": "[encoded data removed]"
          },
          "metadata": {
            "needs_background": "light"
          }
        }
      ]
    },
    {
      "cell_type": "markdown",
      "source": [
        "## prediction "
      ],
      "metadata": {
        "id": "-yS5CsE0yCBK"
      }
    },
    {
      "cell_type": "code",
      "source": [
        "x_test[0]"
      ],
      "metadata": {
        "colab": {
          "base_uri": "https://localhost:8080/"
        },
        "id": "iTThrC6nzQw9",
        "outputId": "5a2ea4d6-3324-487c-b42e-30c67483ab02"
      },
      "execution_count": 24,
      "outputs": [
        {
          "output_type": "execute_result",
          "data": {
            "text/plain": [
              "array([0., 1., 1., ..., 0., 0., 0.])"
            ]
          },
          "metadata": {},
          "execution_count": 24
        }
      ]
    },
    {
      "cell_type": "code",
      "source": [
        "predictions=model.predict(x_test)"
      ],
      "metadata": {
        "id": "vxHBmPzUxgxC"
      },
      "execution_count": 27,
      "outputs": []
    },
    {
      "cell_type": "code",
      "source": [
        "np.argmax(predictions[0])"
      ],
      "metadata": {
        "colab": {
          "base_uri": "https://localhost:8080/"
        },
        "id": "lleKKudxyIR-",
        "outputId": "461b0f36-a2a5-42bf-bdb5-a7c44b588625"
      },
      "execution_count": 28,
      "outputs": [
        {
          "output_type": "execute_result",
          "data": {
            "text/plain": [
              "4"
            ]
          },
          "metadata": {},
          "execution_count": 28
        }
      ]
    },
    {
      "cell_type": "code",
      "source": [
        ""
      ],
      "metadata": {
        "id": "VsEgW_2-0EvH"
      },
      "execution_count": null,
      "outputs": []
    }
  ]
}